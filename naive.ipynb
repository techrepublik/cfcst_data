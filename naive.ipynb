{
 "cells": [
  {
   "cell_type": "code",
   "execution_count": 14,
   "id": "d9a92d74-acd5-44c1-a0eb-890dd7887cbd",
   "metadata": {},
   "outputs": [],
   "source": [
    "import pandas as pd\n",
    "from sklearn.model_selection import train_test_split\n",
    "from sklearn.naive_bayes import GaussianNB\n",
    "from sklearn.preprocessing import LabelEncoder\n",
    "from sklearn.metrics import accuracy_score, precision_score, recall_score, f1_score, confusion_matrix, classification_report\n",
    "import matplotlib.pyplot as plt\n",
    "import seaborn as sns\n",
    "\n",
    "def preprocess_data(data):\n",
    "    \"\"\"\n",
    "    Encodes categorical variables using LabelEncoder.\n",
    "    \"\"\"\n",
    "    label_encoders = {}\n",
    "    for column in data.columns:\n",
    "        if data[column].dtype == 'object':\n",
    "            label_encoders[column] = LabelEncoder()\n",
    "            data[column] = label_encoders[column].fit_transform(data[column])\n",
    "    return data, label_encoders\n",
    "\n",
    "def naive_bayes_classifier(csv_file, target_column):\n",
    "    # Load the dataset\n",
    "    data = pd.read_csv(csv_file)\n",
    "    \n",
    "    # Preprocess the data\n",
    "    data, label_encoders = preprocess_data(data)\n",
    "    \n",
    "    # Separate features and target\n",
    "    X = data.drop(columns=[target_column])\n",
    "    y = data[target_column]\n",
    "    \n",
    "    # Split the dataset into training and testing sets\n",
    "    X_train, X_test, y_train, y_test = train_test_split(X, y, test_size=0.3, random_state=42)\n",
    "    \n",
    "    # Train a Gaussian Naive Bayes classifier\n",
    "    model = GaussianNB()\n",
    "    model.fit(X_train, y_train)\n",
    "    \n",
    "    # Make predictions\n",
    "    y_pred = model.predict(X_test)\n",
    "    \n",
    "    # Calculate metrics\n",
    "    accuracy = accuracy_score(y_test, y_pred)\n",
    "    precision = precision_score(y_test, y_pred, average='weighted')\n",
    "    recall = recall_score(y_test, y_pred, average='weighted')\n",
    "    f1 = f1_score(y_test, y_pred, average='weighted')\n",
    "    \n",
    "    # Confusion matrix\n",
    "    cm = confusion_matrix(y_test, y_pred)\n",
    "    \n",
    "    # Print results\n",
    "    print(f\"Accuracy: {accuracy:.2f}\")\n",
    "    print(f\"Precision: {precision:.2f}\")\n",
    "    print(f\"Recall: {recall:.2f}\")\n",
    "    print(f\"F1-Score: {f1:.2f}\")\n",
    "    print(\"\\nConfusion Matrix:\")\n",
    "    print(cm)\n",
    "    print(\"\\nClassification Report:\")\n",
    "    print(classification_report(y_test, y_pred))\n",
    "    \n",
    "    # Plot confusion matrix\n",
    "    plt.figure(figsize=(8, 6))\n",
    "    sns.heatmap(cm, annot=True, fmt=\"d\", cmap=\"Blues\", xticklabels=label_encoders[target_column].classes_, yticklabels=label_encoders[target_column].classes_)\n",
    "    plt.title(\"Confusion Matrix\")\n",
    "    plt.xlabel(\"Predicted\")\n",
    "    plt.ylabel(\"Actual\")\n",
    "    plt.show()\n",
    "    \n",
    "    # Plot histogram of predicted class distribution\n",
    "    plt.figure(figsize=(8, 6))\n",
    "    plt.hist(y_pred, bins=len(label_encoders[target_column].classes_), edgecolor='black', alpha=0.7, align='mid')\n",
    "    plt.title(\"Predicted Class Distribution\")\n",
    "    plt.xlabel(\"Classes\")\n",
    "    plt.ylabel(\"Frequency\")\n",
    "    plt.xticks(range(len(label_encoders[target_column].classes_)), label_encoders[target_column].classes_)\n",
    "    plt.show()\n",
    "    \n",
    "    # Allow user to enter new input\n",
    "    print(\"\\nEnter new input values to predict:\")\n",
    "    user_input = {}\n",
    "    for column in X.columns:\n",
    "        value = input(f\"{column} (Options: {list(label_encoders[column].classes_)}): \")\n",
    "        user_input[column] = label_encoders[column].transform([value])[0]\n",
    "    \n",
    "    # Convert user input to DataFrame\n",
    "    user_input_df = pd.DataFrame([user_input])\n",
    "    \n",
    "    # Predict using the model\n",
    "    prediction = model.predict(user_input_df)[0]\n",
    "    predicted_label = label_encoders[target_column].inverse_transform([prediction])[0]\n",
    "    \n",
    "    print(f\"\\nPredicted Output: {predicted_label}\")\n",
    "    \n",
    "     # Plot scatter plot\n",
    "    feature_x, feature_y = X.columns[:2]  # Select first two features for 2D scatter plot\n",
    "    plt.figure(figsize=(10, 6))\n",
    "    sns.scatterplot(\n",
    "        x=X[feature_x],\n",
    "        y=X[feature_y],\n",
    "        hue=y.map({val: label for val, label in enumerate(label_encoders[target_column].classes_)}),\n",
    "        palette=\"Set1\",\n",
    "        s=100\n",
    "    )\n",
    "    plt.scatter(user_input[feature_x], user_input[feature_y], color='black', label='User Input', s=150, marker='X')\n",
    "    plt.title(\"Scatter Plot of Features with User Input\")\n",
    "    plt.xlabel(feature_x)\n",
    "    plt.ylabel(feature_y)\n",
    "    plt.legend()\n",
    "    plt.show()\n",
    "\n",
    "# Example CSV structure\n",
    "# naive_bayes_classifier(\"path_to_dataset.csv\", \"Likes Basketball\")\n"
   ]
  },
  {
   "cell_type": "code",
   "execution_count": 15,
   "id": "2d783328-fdaa-4fe5-8726-edbc4b298f12",
   "metadata": {},
   "outputs": [
    {
     "name": "stdout",
     "output_type": "stream",
     "text": [
      "Accuracy: 0.88\n",
      "Precision: 0.88\n",
      "Recall: 0.88\n",
      "F1-Score: 0.87\n",
      "\n",
      "Confusion Matrix:\n",
      "[[26  2]\n",
      " [ 5 23]]\n",
      "\n",
      "Classification Report:\n",
      "              precision    recall  f1-score   support\n",
      "\n",
      "           0       0.84      0.93      0.88        28\n",
      "           1       0.92      0.82      0.87        28\n",
      "\n",
      "    accuracy                           0.88        56\n",
      "   macro avg       0.88      0.88      0.87        56\n",
      "weighted avg       0.88      0.88      0.87        56\n",
      "\n"
     ]
    },
    {
     "data": {
      "image/png": "[encoded data removed]",
      "text/plain": [
       "<Figure size 576x432 with 2 Axes>"
      ]
     },
     "metadata": {
      "needs_background": "light"
     },
     "output_type": "display_data"
    },
    {
     "data": {
      "image/png": "[encoded data removed]",
      "text/plain": [
       "<Figure size 576x432 with 1 Axes>"
      ]
     },
     "metadata": {
      "needs_background": "light"
     },
     "output_type": "display_data"
    },
    {
     "name": "stdout",
     "output_type": "stream",
     "text": [
      "\n",
      "Enter new input values to predict:\n"
     ]
    },
    {
     "name": "stdin",
     "output_type": "stream",
     "text": [
      "Height (Options: ['Above Average', 'Above average', 'Average', 'Below Average', 'above average', 'average']):  Above Average\n",
      "Weight (Options: ['Average', 'Heavy', 'Light', 'average']):  Light\n",
      "Gender (Options: ['F', 'M', 'M ', 'm']):  F\n",
      "Activity (Options: ['HIgh', 'High', 'Low', 'high', 'low']):  Low\n"
     ]
    },
    {
     "name": "stdout",
     "output_type": "stream",
     "text": [
      "\n",
      "Predicted Output: No\n"
     ]
    },
    {
     "data": {
      "image/png": "[encoded data removed]",
      "text/plain": [
       "<Figure size 720x432 with 1 Axes>"
      ]
     },
     "metadata": {
      "needs_background": "light"
     },
     "output_type": "display_data"
    }
   ],
   "source": [
    "filename = 'data/naive_bayes_1.csv'\n",
    "\n",
    "naive_bayes_classifier(filename, \"Likes Basketball\")\n"
   ]
  },
  {
   "cell_type": "code",
   "execution_count": null,
   "id": "afcd02fb-b1bf-4cff-ae59-5d253265d271",
   "metadata": {},
   "outputs": [],
   "source": []
  }
 ],
 "metadata": {
  "kernelspec": {
   "display_name": "Python 3 (ipykernel)",
   "language": "python",
   "name": "python3"
  },
  "language_info": {
   "codemirror_mode": {
    "name": "ipython",
    "version": 3
   },
   "file_extension": ".py",
   "mimetype": "text/x-python",
   "name": "python",
   "nbconvert_exporter": "python",
   "pygments_lexer": "ipython3",
   "version": "3.9.5"
  }
 },
 "nbformat": 4,
 "nbformat_minor": 5
}
